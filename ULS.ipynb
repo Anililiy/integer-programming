{
 "cells": [
  {
   "cell_type": "code",
   "execution_count": 209,
   "metadata": {},
   "outputs": [],
   "source": [
    "import numpy as np\n",
    "\n",
    "class ULS(object):\n",
    "    def __init__(self, n, d, p, h, f):\n",
    "        self.n = n\n",
    "        self.d = d\n",
    "        self.p = p\n",
    "        self.h = h\n",
    "        self.f = f\n",
    "        self.c = self._calculate_c()\n",
    "    \n",
    "    def _calculate_c(self):\n",
    "        c = [0] * self.n\n",
    "        for i in range(self.n):\n",
    "            c[i] = self.p[i] + sum(self.h[i:self.n-1])\n",
    "        return c\n",
    "    \n",
    "    def calculate_H(self):\n",
    "        H = [float('inf')] * self.n\n",
    "        p = [0] * self.n\n",
    "        for k in range(self.n):\n",
    "            H[k] = self.f[0]+self.c[0]*sum(self.d[0:k+1])\n",
    "            for t in range(1, k+1):\n",
    "                value = H[t-1] + self.f[t]+self.c[t]*sum(self.d[t:k+1])\n",
    "                if H[k] > value:\n",
    "                    H[k] = value\n",
    "                    p[k] = t\n",
    "        return p\n",
    "        \n",
    "    def calculate_H_matrix(self):\n",
    "        H = np.zeros((self.n, self.n))\n",
    "        h_min = [float('inf')] * self.n\n",
    "        for k in range(self.n):\n",
    "            H[0][k] = self.f[0]+self.c[0]*sum(self.d[0:k+1])\n",
    "            h_min[k] = H[0][k]\n",
    "            for t in range(1, k+1):\n",
    "                H[t][k] = h_min[t-1] + self.f[t]+self.c[t]*sum(self.d[t:k+1])\n",
    "                if h_min[k] > H[t][k]:\n",
    "                    h_min[k] = H[t][k]\n",
    "        print(H)\n",
    "    \n",
    "    def calculate_xy(self):\n",
    "        l = 0\n",
    "        p = self.calculate_H()\n",
    "        t = [0] * self.n\n",
    "        y = [0] * self.n\n",
    "        x = [0] * self.n\n",
    "        t[l] = self.n\n",
    "        while t[l] > 0:\n",
    "            t[l+1] = p[self.n-l-1]\n",
    "            y[t[l+1]] = 1\n",
    "            x[t[l+1]] = sum(self.d[t[l+1]:t[l]])\n",
    "            l+=1\n",
    "        return (x,y)\n",
    "    \n",
    "    def do_something(self):\n",
    "        print(self.n)\n",
    "        "
   ]
  },
  {
   "cell_type": "code",
   "execution_count": 210,
   "metadata": {},
   "outputs": [
    {
     "name": "stdout",
     "output_type": "stream",
     "text": [
      "[8, 7, 7, 6, 5, 2]\n",
      "[0, 0, 0, 0, 1, 3]\n",
      "[[  36.   52.   92.  116.  172.  180.]\n",
      " [   0.   60.   95.  116.  165.  172.]\n",
      " [   0.    0.   97.  118.  167.  174.]\n",
      " [   0.    0.    0.  123.  165.  171.]\n",
      " [   0.    0.    0.    0.  166.  171.]\n",
      " [   0.    0.    0.    0.    0.  183.]]\n",
      "[3, 7, 0, 11, 0, 0] [1, 1, 0, 1, 0, 0]\n"
     ]
    }
   ],
   "source": [
    "r = ULS(6,[3,2,5,3,7,1],[1,2,3,3,3,2],[2,1,1,1,2],[12,10,10,13,15,16])\n",
    "print(r.c)\n",
    "print(r.calculate_H())\n",
    "r.calculate_H_matrix()\n",
    "(x,y)= r.calculate_xy()\n",
    "print(x,y)"
   ]
  },
  {
   "cell_type": "code",
   "execution_count": null,
   "metadata": {},
   "outputs": [],
   "source": []
  },
  {
   "cell_type": "code",
   "execution_count": null,
   "metadata": {},
   "outputs": [],
   "source": []
  }
 ],
 "metadata": {
  "kernelspec": {
   "display_name": "Python 3",
   "language": "python",
   "name": "python3"
  },
  "language_info": {
   "codemirror_mode": {
    "name": "ipython",
    "version": 3
   },
   "file_extension": ".py",
   "mimetype": "text/x-python",
   "name": "python",
   "nbconvert_exporter": "python",
   "pygments_lexer": "ipython3",
   "version": "3.6.3"
  }
 },
 "nbformat": 4,
 "nbformat_minor": 2
}
